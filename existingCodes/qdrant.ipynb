{
 "cells": [
  {
   "cell_type": "code",
   "execution_count": 3,
   "metadata": {},
   "outputs": [
    {
     "name": "stdout",
     "output_type": "stream",
     "text": [
      "Reformatted content has been saved to requirements_txtfiles.txt\n"
     ]
    }
   ],
   "source": [
    "# Read the input file and format the content\n",
    "input_file = \"/data/QAAPI/requirements2_txtfiles.txt\"  # Replace with your file name\n",
    "output_file = \"requirements_txtfiles.txt\"\n",
    "\n",
    "\n",
    "with open(input_file, \"r\") as file:\n",
    "    lines = file.readlines()\n",
    "\n",
    "# Extract and reformat lines\n",
    "formatted_lines = []\n",
    "for line in lines:\n",
    "    if \"==\" in line:  # Check for package entries\n",
    "        package, version = line.strip().split(\"==\")\n",
    "        formatted_lines.append(f\"{package}=={version}\\n\")\n",
    "\n",
    "# Write the reformatted lines to the output file\n",
    "with open(output_file, \"w\") as file:\n",
    "    file.writelines(formatted_lines)\n",
    "\n",
    "print(f\"Reformatted content has been saved to {output_file}\")\n"
   ]
  },
  {
   "cell_type": "code",
   "execution_count": 4,
   "metadata": {},
   "outputs": [],
   "source": [
    "import os\n",
    "import subprocess\n",
    "\n",
    "def extract_from_doc(file_path):\n",
    "    try:\n",
    "        # Determine the file extension\n",
    "        file_ext = os.path.splitext(file_path)[1].lower()\n",
    "\n",
    "        if file_ext == '.doc':\n",
    "            # Convert .doc file using unoconv\n",
    "            command = ['unoconv', '--format', 'txt', '--stdout', file_path]\n",
    "        elif file_ext == '.docx':\n",
    "            # Convert .docx file using unoconv\n",
    "            command = ['unoconv', '--format', 'txt', '--stdout', file_path]\n",
    "        else:\n",
    "            raise ValueError(f\"Unsupported file extension: {file_ext}. Only .doc and .docx files are supported.\")\n",
    "\n",
    "        # Run the unoconv command as a subprocess and capture the output\n",
    "        result = subprocess.run(command, capture_output=True, text=True, check=True)\n",
    "\n",
    "        # Get the text content from the stdout of unoconv\n",
    "        text_content = result.stdout\n",
    "\n",
    "        print(f\"Successfully converted {file_path} to text using unoconv.\")\n",
    "\n",
    "        return text_content\n",
    "\n",
    "    except subprocess.CalledProcessError as e:\n",
    "        print(f\"Failed to convert {file_path} with unoconv. Return code: {e.returncode}\")\n",
    "    except Exception as e:\n",
    "        print(f\"An error occurred: {str(e)}\")\n"
   ]
  },
  {
   "cell_type": "code",
   "execution_count": 5,
   "metadata": {},
   "outputs": [
    {
     "name": "stdout",
     "output_type": "stream",
     "text": [
      "Failed to convert data/tendergpt/livetender/73715367/doc173715367716582683.doc with unoconv. Return code: 6\n"
     ]
    }
   ],
   "source": [
    "extract_from_doc(\"data/tendergpt/livetender/73715367/doc173715367716582683.doc\")"
   ]
  },
  {
   "cell_type": "code",
   "execution_count": 6,
   "metadata": {},
   "outputs": [
    {
     "name": "stdout",
     "output_type": "stream",
     "text": [
      "An error occurred: [Errno 2] No such file or directory: 'antiword'\n",
      "None\n"
     ]
    }
   ],
   "source": [
    "import subprocess\n",
    "\n",
    "def extract_from_doc(file_path):\n",
    "    try:\n",
    "        command = ['antiword', file_path]\n",
    "        result = subprocess.run(command, capture_output=True, text=True, check=True)\n",
    "        text_content = result.stdout\n",
    "        print(f\"Successfully converted {file_path} to text using antiword.\")\n",
    "        return text_content\n",
    "    except subprocess.CalledProcessError as e:\n",
    "        print(f\"Failed to convert {file_path} with antiword. Return code: {e.returncode}\")\n",
    "    except Exception as e:\n",
    "        print(f\"An error occurred: {str(e)}\")\n",
    "\n",
    "text_content = extract_from_doc(\"data/tendergpt/livetender/73715367/doc173715367716582683.doc\")\n",
    "print(text_content)\n"
   ]
  },
  {
   "cell_type": "code",
   "execution_count": null,
   "metadata": {},
   "outputs": [],
   "source": [
    "!pip install langchain-qdrant langchain-openai langchain"
   ]
  },
  {
   "cell_type": "code",
   "execution_count": 1,
   "metadata": {},
   "outputs": [],
   "source": [
    "import os \n",
    "os.environ[\"CUDA_VISIBLE_DEVICES\"] = \"1\"\n",
    "os.environ['TORCH_USE_CUDA_DSA'] = \"1\""
   ]
  },
  {
   "cell_type": "code",
   "execution_count": 2,
   "metadata": {},
   "outputs": [],
   "source": [
    "from langchain_community.document_loaders import TextLoader\n",
    "from langchain_openai import OpenAIEmbeddings\n",
    "from langchain_qdrant import QdrantVectorStore\n",
    "from langchain_text_splitters import CharacterTextSplitter"
   ]
  },
  {
   "cell_type": "code",
   "execution_count": 3,
   "metadata": {},
   "outputs": [],
   "source": [
    "from langchain.embeddings import HuggingFaceEmbeddings"
   ]
  },
  {
   "cell_type": "code",
   "execution_count": 5,
   "metadata": {},
   "outputs": [],
   "source": [
    "from langchain_community.vectorstores import FAISS\n",
    "def process_text(text):\n",
    "    text = \"\\n\".join([doc.page_content for doc in text])\n",
    "    # text=\"\"\n",
    "    text_splitter = CharacterTextSplitter(\n",
    "        separator=\"\\n\",\n",
    "        chunk_size=2048,\n",
    "        chunk_overlap=32,\n",
    "        length_function=len\n",
    "    )\n",
    "    chunks = text_splitter.split_text(text)\n",
    "    embeddings = HuggingFaceEmbeddings(model_name='BAAI/bge-small-en-v1.5')\n",
    "    # embeddings =embeddings\n",
    "    knowledgeBase = FAISS.from_texts(chunks, embeddings)\n",
    "    return knowledgeBase"
   ]
  },
  {
   "cell_type": "code",
   "execution_count": 6,
   "metadata": {},
   "outputs": [],
   "source": [
    "tender_proc_id =67801247\n",
    "from langchain_community.document_loaders import TextLoader\n",
    "def load_text_files_from_directory(folder_path):\n",
    "    all_docs = []\n",
    "    for filename in os.listdir(folder_path):\n",
    "        if filename.endswith(\".txt\"):\n",
    "            file_path = os.path.join(folder_path, filename)\n",
    "            loader = TextLoader(file_path)\n",
    "            all_docs.extend(loader.load())\n",
    "    return all_docs"
   ]
  },
  {
   "cell_type": "code",
   "execution_count": 7,
   "metadata": {},
   "outputs": [
    {
     "name": "stdout",
     "output_type": "stream",
     "text": [
      "folder_path::: /data/tendergpt/procurment_guildlines_txt/67801247\n"
     ]
    }
   ],
   "source": [
    "folder_path = f\"/data/tendergpt/procurment_guildlines_txt/{tender_proc_id}\"\n",
    "# folder_path = f\"/data/QAAPI/DocumentAll (4)/\"\n",
    "print(\"folder_path:::\",folder_path)\n",
    "all_docs = load_text_files_from_directory(folder_path)\n",
    "# print(\"all_docs:::\",all_docs)\n",
    "# knowledge_base = process_text(all_docs)\n",
    "# print(\"knowledge_base:::\",knowledge_base)"
   ]
  },
  {
   "cell_type": "code",
   "execution_count": null,
   "metadata": {},
   "outputs": [],
   "source": [
    "import os \n",
    "from langchain.embeddings import HuggingFaceEmbeddings\n",
    "from langchain_qdrant import RetrievalMode\n",
    "os.environ[\"CUDA_VISIBLE_DEVICES\"] = \"1\"\n",
    "os.environ['TORCH_USE_CUDA_DSA'] = \"1\"\n",
    "from langchain_community.document_loaders import TextLoader\n",
    "from langchain_qdrant import QdrantVectorStore\n",
    "embeddings = HuggingFaceEmbeddings(model_name='BAAI/bge-small-en-v1.5')\n",
    "qdrant = QdrantVectorStore.from_existing_collection(\n",
    "    embeddings=embeddings,\n",
    "    collection_name=\"my_documents\",\n",
    "    retrieval_mode=RetrievalMode.DENSE,\n",
    "    url=\"http://localhost:6334\",\n",
    ")"
   ]
  },
  {
   "cell_type": "code",
   "execution_count": 2,
   "metadata": {},
   "outputs": [
    {
     "name": "stderr",
     "output_type": "stream",
     "text": [
      "/home/rajeev/.local/lib/python3.11/site-packages/huggingface_hub/file_download.py:1132: FutureWarning: `resume_download` is deprecated and will be removed in version 1.0.0. Downloads always resume when possible. If you want to force a new download, use `force_download=True`.\n",
      "  warnings.warn(\n"
     ]
    },
    {
     "ename": "ValueError",
     "evalue": "'embedding' cannot be None when retrieval mode is 'dense'",
     "output_type": "error",
     "traceback": [
      "\u001b[0;31m---------------------------------------------------------------------------\u001b[0m",
      "\u001b[0;31mValueError\u001b[0m                                Traceback (most recent call last)",
      "Cell \u001b[0;32mIn[2], line 15\u001b[0m\n\u001b[1;32m     12\u001b[0m embeddings \u001b[38;5;241m=\u001b[39m HuggingFaceEmbeddings(model_name\u001b[38;5;241m=\u001b[39m\u001b[38;5;124m'\u001b[39m\u001b[38;5;124mBAAI/bge-small-en-v1.5\u001b[39m\u001b[38;5;124m'\u001b[39m)\n\u001b[1;32m     14\u001b[0m \u001b[38;5;66;03m# Initialize QdrantVectorStore without embeddings\u001b[39;00m\n\u001b[0;32m---> 15\u001b[0m qdrant \u001b[38;5;241m=\u001b[39m \u001b[43mQdrantVectorStore\u001b[49m\u001b[38;5;241;43m.\u001b[39;49m\u001b[43mfrom_existing_collection\u001b[49m\u001b[43m(\u001b[49m\n\u001b[1;32m     16\u001b[0m \u001b[43m    \u001b[49m\u001b[43mcollection_name\u001b[49m\u001b[38;5;241;43m=\u001b[39;49m\u001b[38;5;124;43m\"\u001b[39;49m\u001b[38;5;124;43m67801247\u001b[39;49m\u001b[38;5;124;43m\"\u001b[39;49m\u001b[43m,\u001b[49m\n\u001b[1;32m     17\u001b[0m \u001b[43m    \u001b[49m\u001b[43mretrieval_mode\u001b[49m\u001b[38;5;241;43m=\u001b[39;49m\u001b[43mRetrievalMode\u001b[49m\u001b[38;5;241;43m.\u001b[39;49m\u001b[43mDENSE\u001b[49m\u001b[43m,\u001b[49m\n\u001b[1;32m     18\u001b[0m \u001b[43m    \u001b[49m\u001b[43murl\u001b[49m\u001b[38;5;241;43m=\u001b[39;49m\u001b[38;5;124;43m\"\u001b[39;49m\u001b[38;5;124;43mhttp://localhost:6334\u001b[39;49m\u001b[38;5;124;43m\"\u001b[39;49m\u001b[43m,\u001b[49m\n\u001b[1;32m     19\u001b[0m \u001b[43m)\u001b[49m\n",
      "File \u001b[0;32m~/.local/lib/python3.11/site-packages/langchain_qdrant/qdrant.py:286\u001b[0m, in \u001b[0;36mQdrantVectorStore.from_existing_collection\u001b[0;34m(cls, collection_name, embedding, retrieval_mode, location, url, port, grpc_port, prefer_grpc, https, api_key, prefix, timeout, host, path, distance, content_payload_key, metadata_payload_key, vector_name, sparse_vector_name, sparse_embedding, validate_embeddings, validate_collection_config, **kwargs)\u001b[0m\n\u001b[1;32m    265\u001b[0m \u001b[38;5;250m\u001b[39m\u001b[38;5;124;03m\"\"\"Construct an instance of `QdrantVectorStore` from an existing collection\u001b[39;00m\n\u001b[1;32m    266\u001b[0m \u001b[38;5;124;03mwithout adding any data.\u001b[39;00m\n\u001b[1;32m    267\u001b[0m \n\u001b[1;32m    268\u001b[0m \u001b[38;5;124;03mReturns:\u001b[39;00m\n\u001b[1;32m    269\u001b[0m \u001b[38;5;124;03m    QdrantVectorStore: A new instance of `QdrantVectorStore`.\u001b[39;00m\n\u001b[1;32m    270\u001b[0m \u001b[38;5;124;03m\"\"\"\u001b[39;00m\n\u001b[1;32m    271\u001b[0m client \u001b[38;5;241m=\u001b[39m QdrantClient(\n\u001b[1;32m    272\u001b[0m     location\u001b[38;5;241m=\u001b[39mlocation,\n\u001b[1;32m    273\u001b[0m     url\u001b[38;5;241m=\u001b[39murl,\n\u001b[0;32m   (...)\u001b[0m\n\u001b[1;32m    283\u001b[0m     \u001b[38;5;241m*\u001b[39m\u001b[38;5;241m*\u001b[39mkwargs,\n\u001b[1;32m    284\u001b[0m )\n\u001b[0;32m--> 286\u001b[0m \u001b[38;5;28;01mreturn\u001b[39;00m \u001b[38;5;28;43mcls\u001b[39;49m\u001b[43m(\u001b[49m\n\u001b[1;32m    287\u001b[0m \u001b[43m    \u001b[49m\u001b[43mclient\u001b[49m\u001b[38;5;241;43m=\u001b[39;49m\u001b[43mclient\u001b[49m\u001b[43m,\u001b[49m\n\u001b[1;32m    288\u001b[0m \u001b[43m    \u001b[49m\u001b[43mcollection_name\u001b[49m\u001b[38;5;241;43m=\u001b[39;49m\u001b[43mcollection_name\u001b[49m\u001b[43m,\u001b[49m\n\u001b[1;32m    289\u001b[0m \u001b[43m    \u001b[49m\u001b[43membedding\u001b[49m\u001b[38;5;241;43m=\u001b[39;49m\u001b[43membedding\u001b[49m\u001b[43m,\u001b[49m\n\u001b[1;32m    290\u001b[0m \u001b[43m    \u001b[49m\u001b[43mretrieval_mode\u001b[49m\u001b[38;5;241;43m=\u001b[39;49m\u001b[43mretrieval_mode\u001b[49m\u001b[43m,\u001b[49m\n\u001b[1;32m    291\u001b[0m \u001b[43m    \u001b[49m\u001b[43mcontent_payload_key\u001b[49m\u001b[38;5;241;43m=\u001b[39;49m\u001b[43mcontent_payload_key\u001b[49m\u001b[43m,\u001b[49m\n\u001b[1;32m    292\u001b[0m \u001b[43m    \u001b[49m\u001b[43mmetadata_payload_key\u001b[49m\u001b[38;5;241;43m=\u001b[39;49m\u001b[43mmetadata_payload_key\u001b[49m\u001b[43m,\u001b[49m\n\u001b[1;32m    293\u001b[0m \u001b[43m    \u001b[49m\u001b[43mdistance\u001b[49m\u001b[38;5;241;43m=\u001b[39;49m\u001b[43mdistance\u001b[49m\u001b[43m,\u001b[49m\n\u001b[1;32m    294\u001b[0m \u001b[43m    \u001b[49m\u001b[43mvector_name\u001b[49m\u001b[38;5;241;43m=\u001b[39;49m\u001b[43mvector_name\u001b[49m\u001b[43m,\u001b[49m\n\u001b[1;32m    295\u001b[0m \u001b[43m    \u001b[49m\u001b[43msparse_embedding\u001b[49m\u001b[38;5;241;43m=\u001b[39;49m\u001b[43msparse_embedding\u001b[49m\u001b[43m,\u001b[49m\n\u001b[1;32m    296\u001b[0m \u001b[43m    \u001b[49m\u001b[43msparse_vector_name\u001b[49m\u001b[38;5;241;43m=\u001b[39;49m\u001b[43msparse_vector_name\u001b[49m\u001b[43m,\u001b[49m\n\u001b[1;32m    297\u001b[0m \u001b[43m    \u001b[49m\u001b[43mvalidate_embeddings\u001b[49m\u001b[38;5;241;43m=\u001b[39;49m\u001b[43mvalidate_embeddings\u001b[49m\u001b[43m,\u001b[49m\n\u001b[1;32m    298\u001b[0m \u001b[43m    \u001b[49m\u001b[43mvalidate_collection_config\u001b[49m\u001b[38;5;241;43m=\u001b[39;49m\u001b[43mvalidate_collection_config\u001b[49m\u001b[43m,\u001b[49m\n\u001b[1;32m    299\u001b[0m \u001b[43m\u001b[49m\u001b[43m)\u001b[49m\n",
      "File \u001b[0;32m~/.local/lib/python3.11/site-packages/langchain_qdrant/qdrant.py:84\u001b[0m, in \u001b[0;36mQdrantVectorStore.__init__\u001b[0;34m(self, client, collection_name, embedding, retrieval_mode, vector_name, content_payload_key, metadata_payload_key, distance, sparse_embedding, sparse_vector_name, validate_embeddings, validate_collection_config)\u001b[0m\n\u001b[1;32m     71\u001b[0m \u001b[38;5;250m\u001b[39m\u001b[38;5;124;03m\"\"\"Initialize a new instance of `QdrantVectorStore`.\u001b[39;00m\n\u001b[1;32m     72\u001b[0m \n\u001b[1;32m     73\u001b[0m \u001b[38;5;124;03mExample:\u001b[39;00m\n\u001b[0;32m   (...)\u001b[0m\n\u001b[1;32m     81\u001b[0m \u001b[38;5;124;03m)\u001b[39;00m\n\u001b[1;32m     82\u001b[0m \u001b[38;5;124;03m\"\"\"\u001b[39;00m\n\u001b[1;32m     83\u001b[0m \u001b[38;5;28;01mif\u001b[39;00m validate_embeddings:\n\u001b[0;32m---> 84\u001b[0m     \u001b[38;5;28;43mself\u001b[39;49m\u001b[38;5;241;43m.\u001b[39;49m\u001b[43m_validate_embeddings\u001b[49m\u001b[43m(\u001b[49m\u001b[43mretrieval_mode\u001b[49m\u001b[43m,\u001b[49m\u001b[43m \u001b[49m\u001b[43membedding\u001b[49m\u001b[43m,\u001b[49m\u001b[43m \u001b[49m\u001b[43msparse_embedding\u001b[49m\u001b[43m)\u001b[49m\n\u001b[1;32m     86\u001b[0m \u001b[38;5;28;01mif\u001b[39;00m validate_collection_config:\n\u001b[1;32m     87\u001b[0m     \u001b[38;5;28mself\u001b[39m\u001b[38;5;241m.\u001b[39m_validate_collection_config(\n\u001b[1;32m     88\u001b[0m         client,\n\u001b[1;32m     89\u001b[0m         collection_name,\n\u001b[0;32m   (...)\u001b[0m\n\u001b[1;32m     94\u001b[0m         embedding,\n\u001b[1;32m     95\u001b[0m     )\n",
      "File \u001b[0;32m~/.local/lib/python3.11/site-packages/langchain_qdrant/qdrant.py:1035\u001b[0m, in \u001b[0;36mQdrantVectorStore._validate_embeddings\u001b[0;34m(cls, retrieval_mode, embedding, sparse_embedding)\u001b[0m\n\u001b[1;32m   1027\u001b[0m \u001b[38;5;129m@classmethod\u001b[39m\n\u001b[1;32m   1028\u001b[0m \u001b[38;5;28;01mdef\u001b[39;00m \u001b[38;5;21m_validate_embeddings\u001b[39m(\n\u001b[1;32m   1029\u001b[0m     \u001b[38;5;28mcls\u001b[39m: Type[QdrantVectorStore],\n\u001b[0;32m   (...)\u001b[0m\n\u001b[1;32m   1032\u001b[0m     sparse_embedding: Optional[SparseEmbeddings],\n\u001b[1;32m   1033\u001b[0m ) \u001b[38;5;241m-\u001b[39m\u001b[38;5;241m>\u001b[39m \u001b[38;5;28;01mNone\u001b[39;00m:\n\u001b[1;32m   1034\u001b[0m     \u001b[38;5;28;01mif\u001b[39;00m retrieval_mode \u001b[38;5;241m==\u001b[39m RetrievalMode\u001b[38;5;241m.\u001b[39mDENSE \u001b[38;5;129;01mand\u001b[39;00m embedding \u001b[38;5;129;01mis\u001b[39;00m \u001b[38;5;28;01mNone\u001b[39;00m:\n\u001b[0;32m-> 1035\u001b[0m         \u001b[38;5;28;01mraise\u001b[39;00m \u001b[38;5;167;01mValueError\u001b[39;00m(\n\u001b[1;32m   1036\u001b[0m             \u001b[38;5;124m\"\u001b[39m\u001b[38;5;124m'\u001b[39m\u001b[38;5;124membedding\u001b[39m\u001b[38;5;124m'\u001b[39m\u001b[38;5;124m cannot be None when retrieval mode is \u001b[39m\u001b[38;5;124m'\u001b[39m\u001b[38;5;124mdense\u001b[39m\u001b[38;5;124m'\u001b[39m\u001b[38;5;124m\"\u001b[39m\n\u001b[1;32m   1037\u001b[0m         )\n\u001b[1;32m   1039\u001b[0m     \u001b[38;5;28;01melif\u001b[39;00m retrieval_mode \u001b[38;5;241m==\u001b[39m RetrievalMode\u001b[38;5;241m.\u001b[39mSPARSE \u001b[38;5;129;01mand\u001b[39;00m sparse_embedding \u001b[38;5;129;01mis\u001b[39;00m \u001b[38;5;28;01mNone\u001b[39;00m:\n\u001b[1;32m   1040\u001b[0m         \u001b[38;5;28;01mraise\u001b[39;00m \u001b[38;5;167;01mValueError\u001b[39;00m(\n\u001b[1;32m   1041\u001b[0m             \u001b[38;5;124m\"\u001b[39m\u001b[38;5;124m'\u001b[39m\u001b[38;5;124msparse_embedding\u001b[39m\u001b[38;5;124m'\u001b[39m\u001b[38;5;124m cannot be None when retrieval mode is \u001b[39m\u001b[38;5;124m'\u001b[39m\u001b[38;5;124msparse\u001b[39m\u001b[38;5;124m'\u001b[39m\u001b[38;5;124m\"\u001b[39m\n\u001b[1;32m   1042\u001b[0m         )\n",
      "\u001b[0;31mValueError\u001b[0m: 'embedding' cannot be None when retrieval mode is 'dense'"
     ]
    }
   ],
   "source": [
    "import os\n",
    "from langchain_qdrant import RetrievalMode\n",
    "from langchain_community.document_loaders import TextLoader\n",
    "from langchain_qdrant import QdrantVectorStore\n",
    "from langchain.embeddings import HuggingFaceEmbeddings\n",
    "\n",
    "# Set environment variables for CUDA\n",
    "os.environ[\"CUDA_VISIBLE_DEVICES\"] = \"1\"\n",
    "os.environ['TORCH_USE_CUDA_DSA'] = \"1\"\n",
    "\n",
    "# Initialize embeddings\n",
    "embeddings = HuggingFaceEmbeddings(model_name='BAAI/bge-small-en-v1.5')\n",
    "\n",
    "# Initialize QdrantVectorStore without embeddings\n",
    "qdrant = QdrantVectorStore.from_existing_collection(\n",
    "    collection_name=\"67801247\",\n",
    "    retrieval_mode=RetrievalMode.DENSE,\n",
    "    url=\"http://localhost:6334\",\n",
    ")\n"
   ]
  },
  {
   "cell_type": "code",
   "execution_count": 17,
   "metadata": {},
   "outputs": [],
   "source": [
    "query = \"who is ramesh sinha\"\n",
    "found_docs = qdrant.similarity_search(query)"
   ]
  },
  {
   "cell_type": "code",
   "execution_count": 18,
   "metadata": {},
   "outputs": [
    {
     "data": {
      "text/plain": [
       "[Document(page_content='File: Procurement Guidlines_new.pdf\\n\\nText Data:\\nHii\\nHello! I am tender tiger bot.How can I assist you today?\\nHi\\nHi there! How can I help you today? If you have any questions or if there\\'s something specific\\nyou\\'d like to know or discuss, feel free to let me know!\\nHey\\nHi there! How can I help you today? If you have any questions or if there\\'s something specific\\nyou\\'d like to know or discuss, feel free to let me know!\\nHello\\nHello! How can I assist you today? If you have any questions or if there\\'s something specific\\nyou\\'d like to discuss, feel free to let me know!\\nWho are you?\\nI\\'m Tendergpt, a virtual assistant created by Tender Tiger. I\\'m here to help answer your\\nquestions, provide information, or assist you with anything you need to the best of my ability.\\nHow can I assist you today?\\nAbout TTPL\\nTender Tiger Private Limited (TTPL) is the global choice for tender discovery, listing nearly\\n100M new business opportunities worldwide. Daily, millions of suppliers uncover fresh Tender\\nin diverse product and service categories. We meticulously scan government, newspaper, and\\nvarious publications\\' websites to guarantee you never miss a crucial tender. To prevent essential\\ntenders from getting lost amidst the influx of new ones, we\\'ve introduced a pioneering AI\\nsearch – the first of its kind globally.\\nAbout Management\\nRamesh Sinha, the Founder of Tender Tiger Private Limited, pioneered world\\'s First Tender\\nportal in the early 2000s, during the dot.com boom. With 23 years of expertise, he specializes\\nin listing Tenders and facilitating eTenders, Reverse Auctions, and comprehensive\\nprocurement processes. Our Group boasts a workforce and partner network of over 500\\ndedicated individuals, all focused on one single objective - to help you win tender. Talk to us\\nto know which of your competitors are already signed up with us.\\nAbout our Financials\\nWe monitor Trillions in procurement and facilitate annual transactions worth Billions.\\nOperating on a SAAS model, our goal is to reduce government procurement expenses. We\\nemploy a fixed fee structure, not a percentage of the procurement value, which both buyers and\\n\\nsuppliers cover for accessing our diverse services. According to Indian Government standards,\\na medium sized company is one which is falling within the turnover range of Rs. 50 to Rs. 250\\nCrores. We are a medium sized company.\\nTender Tiger USP, Competitive Advantages\\n\\uf0b7 Pioneers - World\\'s first Tender Portal\\n\\uf0b7 Largest Aggregator - 100 M New Opportunities/Year Largest Agggregator\\n\\uf0b7 Biggest Team - 500+ Employee & Consultants, Global Presence\\n\\uf0b7 Confidentiality, guaranteed 100%\\n\\uf0b7 Primary source for tenders as publishing tender is free\\n\\uf0b7 End to End Solution from identification to winning\\nOur network Portals\\n\\uf0b7 abcProcure.com\\n\\uf0b7 AuctionTiger.net\\n\\uf0b7 ProcureTiger\\n\\uf0b7 CertificateTiger\\n\\uf0b7 TenderTiger\\nabcProcure.com\\nHundred of Governement organisation use this platform to manage their entire eTendering &\\neAuction lifecycle on SAAS model. Key modules includes the following\\n\\uf0b7 Budget Management\\n\\uf0b7 Indent, Tender\\n\\uf0b7 eTender publication\\n\\uf0b7 Online pre bid meeting\\n\\uf0b7 Secure Bid submission\\n\\uf0b7 Secure bid evaluation\\n\\uf0b7 Online negotiation\\n\\uf0b7 LOI, PO management\\n\\uf0b7 Contract management\\n\\uf0b7 Integrated Payment gateway\\n\\uf0b7 Vendor managemen\\nThe eTendering platform used by Government of Bangladesh was developed by us. Our client\\ninclude…\\nAuctionTiger.net\\nAuctionTiger.net is preferred eAuction platform by 50+ leading banks of India to dispose of\\ntheir Non Perfroming Assets i.e. seized property, machinery, gold, and vehicles. Every year\\nclose to 10 Million assets are being auctioned on AuctionTiger.net. It complies to all\\ngovernment guidelines and available on SAAS model. To schedule a demo mail us at\\nSales@TenderTiger.comor call +91 9328 913 635.\\nProcureTiger.com\\nProcureTiger.com is the preferred procure to pay platform that all larget private sector\\ncompanies which have annual procurement budget exceeding Rs. 100 Cr/year. We guarantee\\n\\nminimum 3 quotes, enhanced transparency & upto 7.5 % savings on annual procurement\\nbudget. It complies to ISO Standads and is available on SAAS model. To schedule a demo mail\\nus at Sales@TenderTiger.comor call +91 9328 913 635.\\nCertificate Tiger\\nA digital certificate proves the authenticity of a device, server, or user through the use of\\ncryptography and the public key infrastructure (PKI). Digital Certificate are mandatory when\\nit comes to filing tenders, tax returns, etc. We retail Digital Certificate for all class and also\\nprovide Signing, Verification & Encryption tool using PKI technology. To schedule a demo\\nmail us at Sales@TenderTiger.comor call +91 9328 913 635.\\nHow do we source Tenders?\\nWe source Tenders from multiple sources like;\\n1. Our procurement platforms: Where we enable eprocurement opportunities of thousand\\nof buyers.\\n2. Direct Publication: Since Tender publication on our portal is free, thousand of\\ngovernment organsiation email their new Tenders directly to us for publication on or\\nportal.\\n3. Buyer websites: We scan websites of ten thousands of government websites from where\\nwe crawl Tenders\\n4. Seondary source: We scan website for all leading newspaper and industry association\\nto search for new Tenders\\nThis ensure that we capture maximum number of Tenders and opportunities.\\nClassificaton Methodology\\nTo ensure that you do not miss out on key tenders we deploy multi-level product and service\\nclassification strategy namely;\\n1. AI Classification\\n2. Token based Classification\\n3. Organisation based classification\\n4. User defined Classification\\nSince new product & services are launched on weekly basis, it is quite a task to classify close\\nto 1 Lakh opportunities per day. The above tools We expect our users to curate content such\\nthat it becomes easy for our users to view relevant tenders.\\nAI Classification\\nWe have deployed cutting edge Tender Classificaton Agent (Tiger AI) to classify Ten\\nthousands of Tenders and Lakhs of BOQ on daily basis by various parameters like\\nOrganisation, Location, Product, Service, Procurement Term, Brand, Quantity, Project,\\n\\nMaterial, etc. You an use our technology to classify your Purchse orders, mails, etc. To\\nschedule a demo mail us at Sales@TenderTiger.comor call +91 9328 913 635.\\nTokens based classification\\nWe track close to 1.5 Lakh Tokens e.g. AC, HVAC, Split AC, Wall AC, etc. This database\\nkeeps growing as new product & services are launched in the market. When you opt for our\\nservices you can select from existing tokens or suggest new ones to track. This classification\\nsystem works in tandem with our AI system and delivers you very precise result. To know\\nmore mail us at Sales@TenderTiger.comor call +91 9328 913 635.\\nOrgansiation Classificaton\\nWe also classify organisation on the bais of their procurement pattern. E.g. all Hospitals tenders\\nare groupped together becuase their procurement pattern is similar. This is then clubbed with\\nour tender classification to give you more precise result. Our customer prefer to get tenders\\nfrom their sector on priority. To know more mail us at Sales@TenderTiger.comor call +91\\n9328 913 635.\\nClassificaton Structure\\nWe have a home grown 7 layered classification system wich covers 18 broad Indistrial Sectors\\ne.g. Agro, Pharma, Construction, IT, etc. This structure is overlaid on The Common\\nProcurement Vocabulary (CPV system) developed by the European Union to facilitate the\\nprocessing of invitation to tender published. We have also mapped CPV with other global\\nclassification standards such as UNSPSC and HSN & SAC classification system. If need be,\\nwe can help you map your own classification system with ours such that Tenders can be\\nseamlessly mapped with application.\\nTender Tiger Services\\nServices offered by Tender Tiger are as listed below.\\n\\uf0b7 Daily Tender Alerts\\n\\uf0b7 Competitive quote for BOQ items\\n\\uf0b7 Probable particpants on basis of PQ\\n\\uf0b7 Consortium formation / Collaboration\\n\\uf0b7 Sub contracting\\n\\uf0b7 Tender Result\\n\\uf0b7 Competitor Analysis\\n\\uf0b7 Projects & News\\n\\uf0b7 Tender Consultancy\\n\\uf0b7 Tendering KPO\\n\\uf0b7 eProcurement Solutions\\n\\uf0b7 Market Making Services\\n\\uf0b7 Advertisement & Lead generation platform\\nDaily Tender Alerts Services\\n\\nDaily Tender Alerts Services ensures that you\\'ll get all Tenders of your choice in your inbox\\ndaily. On click you can see tender details and download document without having to log into\\nthe system. There are multiple email format to choose from. You can add CC accounts such\\nthat your entire tender management team is on the same page.\\nGet competitive quote for BOQ items\\nTo win Tender you have to be competitive. To become competitive you need to quote\\ncompetitive rates for each of the Bill of Quantaties (BOQ) items. Tender Tiger can help you\\nget for each and every BOQ items using it\\'s supplier database. You can ask your suppler to\\nquote too. If you are not satisfied with the quotes, you can set up Reverse Auction and drive\\nprices down .We can also help you benchmark BOQ rates with government Schedule of Rates\\n(SOR). To know more mail us at Sales@TenderTiger.comor call +91 9328 913 635.\\nProbable particpants on basis of PQ\\nKnowing who all will be participating can be a great competitive advantage. For the tender you\\nare interested in, we can let you know who all qualify & probably will participate on basi of\\ntheir historic bidding pattern. This service is available on per tender basis. So next time you\\nwish to win tender, do connect with us on Sales@TenderTiger.comor call +91 9328 913 635\\nFind Consortium Partners\\nDo yo know you can particpate in every tender that is floated for the product or service you\\nprovide. So next time you come across a tender where you do not meet the PQ criteria, don\\'t\\nget disheartened. You should first challenge PQ criteria and seek relaxation. You should\\nalso connect with us such that we can help you find consortium partner (if the same is allowed\\nin Tender) such that you and your partner can qualify to bid in a Tender. To know more mail\\nus at Sales@TenderTiger.comor call +91 9328 913 635.\\nSub contarting opportunity\\nEven If you don\\'t particpate in tenders, you can use Tender Tiger to find sub contracting\\nopportunities to grow your business. All you have to do is find Bidder who have won Tender\\nand approach them to sublet you part of contract they have won. We can help you connect with\\nbidders & help you win subcontracts. To know moremail us at Sales@TenderTiger.comor call\\n+91 9328 913 635.\\nCompetitor Analysis\\nTender Tiger provides you a great tool to track what your competitors are doing when it comes\\nto Tendering i.e. what tenders they bid, what is their location preference, who are their preferred\\nbuyers, what is their price range, price deviation compared to estimated cost, L1 bidder & so\\non. You can also track tenders you have missed that your competitor partipcsted in using this\\nservice. To know more mail us at Sales@TenderTiger.comor call +91 9328 913 635.\\n\\nProjects & News\\nTender Tiger tracks important projects news related to your industry that you you do not miss\\nout on new announcement made by Government and private sector. This data is culled from\\ncompany websites, annual reports and newspapers. This is a critical business intelligence that\\nevery corproate should have access to. To know more mail us at Sales@TenderTiger.comor\\ncall +91 9328 913 635.\\nTender Consultancy\\nTende Tiger consults startups, micro, small & medium enterprise on Tender winning strategy\\nand provide necessary help during the entire lifecycle of Tendering. It includes vendor\\nregistration, empanelment, sub contracting, tender identification, identifying consortium\\npartner, bid preparation, bid submission & negotiations. We help you win Tenders. To know\\nmore mail us at Sales@TenderTiger.comor call +91 9328 913 635.\\nTendering KPO Services\\nTender Tiger is preferred Tendering KPO partner for 100\\'s of organisations. We manage the\\nentire tender indentificsiton, coordination, bid preparation, filing part. We assured guaranteed\\nROI as only when you win tender, we win. We provide dedicated manpower, 100%\\nconfidentiality, and assured win. We help you win Tenders. To know more mail us at\\nSales@TenderTiger.comor call +91 9328 913 635.\\nMarket Making Services\\nOur market making services help buyer reach out to new suppliers, such that they can get better\\nquality products at a very competitive cost. We also help buyers expand their supplier base\\nand end supplier cartel. We also assured savings. To try out our market making services mail\\nus at Sales@TenderTiger.comor call +91 9328 913 635.\\nAdvertisement & Lead generation platform\\nTender Tiger is a great platform for advertising your product & services and generate new\\nbusiness lead as it attracts only professionals. What\\'s most important is it\\'s a target advertising\\ni.e. when you advertise your product & serves on Tender Tiger, the banners gets show to people\\nwho are looking for tender where one of the sub somponent is the product or service you deal\\nin. That way it catches buyer attention and there is assured leads generation. To start your\\nadvertising campaign mail us at Sales@TenderTiger.comor call +91 9328 913 635.\\neProcurement Solutions\\nWe offer end to end eProcurement solution which includes the following;\\n\\uf0b7 Indent Management\\n\\uf0b7 RFP /RFQ\\n\\uf0b7 Multi evenlople 2 stage eTendering\\n\\uf0b7 Reverse Auction\\n\\n\\uf0b7 Forward Auction\\n\\uf0b7 LOI/ PO Management\\n\\uf0b7 Integrated Payment Gateway for Document fee, EMD, SD, PG\\n\\uf0b7 Supplier Portal for Listing & Rating supplier\\n\\uf0b7 Digital Certificate for Signing & Encryption\\nTo know more mail us at Sales@TenderTiger.comor call +91 9328 913 635.\\nAccessibilty:\\nTenderTiger can be accessed via website, mobile app, email digest, desktop application. You\\ncan easily download data as PDF & Worksheets formats. Moreover we also provide API such\\nthat Tenders can be directly pushed into your ERP, CRM & Portal. Depending on your need,\\nyou an choose one or multiple accessibility options. To know more mail us at\\nSales@TenderTiger.comor call +91 9328 913 635.\\nWho Should sign up?\\nTender Tiger offers guidance to startups, micro, small, and medium enterprises on winning\\ntenders. We provide essential support throughout the entire tendering process, from vendor\\nregistration, empanelment, and sub-contracting to tender identification, finding consortium\\npartners, bid preparation, submission, and negotiations. If you\\'re looking to grow your\\nbusiness, sign up today. Click here to register. To know more mail us at\\nSales@TenderTiger.comor call +91 9328 913 635.\\nHow do I signup?\\nTo sign up, click on the \"Signup\" button. The registration process is completely free. It will\\nonly take you less than a minute to complete. Click here to begin your signup process.\\nCan I see Tenders for Free\\nOh Yes!. Signup today and get access to all archive Tenders we have tracked in past for product\\n& service you provide. This will help you evaluate how beneficial our service is to grow your\\nbusiness. Click here to signup.\\nCan I view Tenders without charge?\\nAbsolutely! By signing up today, you\\'ll gain access to our extensive archive of tracked Tenders\\nrelated to the products and services you offer. This allows you to assess the value of our service\\nin boosting your business. Click here to register.\\nCould you initiate my FREE trial?\"\\nCertainly! Once you sign up today, our support team will reach out to you to comprehensively\\nunderstand your needs and kickstart your free trial. During this period, you\\'ll gain access to\\n\\ntender summaries and details, excluding tender documents. Additionally, you\\'ll have insights\\ninto potential bidders, pre-qualification conditions, consortium prospects, competitor\\ninformation, buyer statistics, and more. Don\\'t miss out, click here to sign up and commence\\nyour free trial today!\\nRegarding Pricing & Payments\\nIn addition to tender alerts, we provide a wide range of services (see Tender Tiger services).\\nAccessing a tender can be as affordable as Rs. 100/Tender. Annual rates are dependent on your\\npreferences for product or service categories, location, and any additional value-added services.\\nOpting for an unlimited access subscription for a period of 2 years or more is the recommended\\noption. Our team can assist you in tailoring a plan to suit your specific needs. For further\\ninformation, please contact us via email at sale@TenderTiger.com or call +91 9328 913 635.\\nUnable to locate a particular tender?\\nNo worries, we\\'ve got you covered. Simply provide us with what you are looking gor like\\nkeywords, organization, value, or location, and we\\'ll track it down and send it to you. To notify\\nus, send an email to sale@TenderTiger.com or call/sms +91 9328 913 635\\nWe overlooked a tender\\nOur extensive tracking covers numerous websites. Occasionally, updates or code modifications\\non these websites may cause our crawler to halt. Alternatively, a tender may be misclassified,\\ncausing you to miss it. In either case, if you believe we\\'ve missed a tender, please let us know.\\nWe\\'ll do our best to identify and rectify the issue. To inform us, please send an email to\\nsale@TenderTiger.com or call/sms +91 9328 913 635. #MissedTender\\n#35 I\\'m receiving irrelevant tenders.\\nThis may be due to two reasons: either you\\'ve subscribed to inappropriate categories or\\nkeywords, or we\\'ve misclassified a tender. Please inform us, and we\\'ll swiftly address the issue.\\nJust reach out to us via email at sale@TenderTiger.com or call/sms +91 9328 913 635.\\n#UnwantedTender #JunkTender #WrongTender #IrrelevantTender\\nTender Misclassification Report\\nOur tenders are categorized using an AI engine with manual verification. In case of\\ninaccuracies in the training dataset, there might be instances of misclassification. If you\\nencounter wrongly classified tenders, please inform us. We\\'ll rectify this issue by retraining\\nour dataset. #WrongClassification\\nIncomplete Tender Information\\nWe aggregate data from diverse sources and present it on our portal. If certain details are absent,\\nit could be due to two reasons. Firstly, the publisher may have provided partial data, or\\n\\nsecondly, our crawling process may have missed some information. Kindly inform us, and if\\nthe fault lies with us, we\\'ll promptly address it. You can reach out to us via email at\\nsale@TenderTiger.com or call/sms +91 9328 913 635.\\nMissing Tender Document, Unable to Download\\nTypically, the Tender Document accompanies the Tender notice upon publication. If the\\nTender Document is not available, it likely wasn\\'t published at the time of Tender release.\\nPlease verify the publisher\\'s website or reach out to the tendering authority for further\\ninformation. If you possess the tender document, kindly send it to us at sale@TenderTiger.com\\nor call/sms +91 9328 913 635.\\nMissing or Incorrect Translation\\nWe rely on a paid web-based translation tool to translate vernacular tender notices. It is\\nadvisable to refer to the original draft and document when placing bids. Should you require\\nretranslation or translation of the entire tender document, please reach out to us. For translation\\nservices, please contact us via email at sale@TenderTiger.com or call/sms +91 9328 913 635.\\nMissing Corrigendum Notice\\nIf you come across a tender of interest, kindly express it by clicking the heart icon.\\nAdditionally, promptly contact the relevant department and register your interest. This way,\\nthey can personally inform you in case of any corrigendum publication. Don\\'t forget to\\nparticipate in the pre-bid meeting. Our system only monitors updates for tenders that have been\\nliked so keep giving us the hearts. For corrigendum missing alerts, please contact us via email\\nat sale@TenderTiger.com or call/sms +91 9328 913 635.\\nMissing Pre-Qualification Criteria\\nMost tender documents include specific eligibility criteria for potential bidders. It\\'s crucial to\\nrefer to the tender document for this information. Additionally, we offer a service where our\\nAI can extract pre-qualification conditions from the tender document, saving you the effort of\\nmanual extraction. Please note that this is a service and you can upgrade anytime. To enable\\nthis feature, please contact us via email at sale@TenderTiger.com or call/sms +91 9328 913\\n635.\\nMissing Bill of Quantities (BOQ)\\nIn most construction and project-related tenders, the Bill of Quantities (BOQ) is outlined in the\\ntender documents. Please refer to the tender document for this information. Additionally, we\\noffer a service where our AI can extract the BOQ from the tender document, get you the\\ncompetitive quote for each item from various biders, help you negotiate the best price from\\nthem using our inbuilt reverse auction tool, thus eliminating the need for manual downloading\\n\\nand extraction. Please note that this service is available for a fee. To activate it, kindly contact\\nus via email at sale@TenderTiger.com or call/sms +91 9328 913 635.\\nDelayed Tender Publication on Tender Tiger\\nWe make every effort to diligently monitor all government websites on a daily basis, ensuring\\nthat all tenders are uploaded within a 24-hour window, excluding holidays. Short tenders are\\ngiven priority in digitization. Our email digest is sent out daily, but tenders are uploaded to our\\nwebsite multiple times in a day. Therefore, please continue to check our website for new\\ntenders. However, if you come across any tenders that were published late, kindly notify us at\\nsale@TenderTiger.com or call/sms +91 9328 913 635.\\nLack of Buyer Contact Information\\nWe make efforts to provide contact details of the tendering authority. In case they are not\\navailable, please refer to the Tender Document or Tender Notice for further information. All\\ncommunications pertaining to the tender must be directed to the contact person/department\\nspecified in the Tender Document. If you require contact details for a specific agency or\\nindividual, please email us at sale@TenderTiger.com or call/sms +91 9328913635.\\nMissing Information on Cancelled Tenders\\nOccasionally, the government may cancel a tender due to reasons like inability to secure\\nvendors, budget constraints, shifting priorities, or reevaluation of products or services. Tenders\\ncan be cancelled at any phase. Please note that we do not track cancelled tenders. If you have\\nexpressed interest, you will be promptly informed if a cancellation occurs. If you come across\\ninformation about a cancelled tender, kindly inform us via email at sale@TenderTiger.com or\\ncall/sms +91 9328 913 635.\\nAbsence of Tender Results\\nUnlike Tender Notices, Indian states are not obligated to publish Tender results. However, for\\nCentral/Federal organizations, it is a mandatory requirement. This policy may differ between\\ncountries and organizations. Even for those who do publish results, timely updates are not\\nguaranteed. We make every effort to capture as many Tender Results as possible. If you have\\na specific Tender Result in mind that you\\'d like us to track, please contact us at\\nsale@TenderTiger.com or call/sms +91 9328 913 635.\\nNot Receiving Email Alerts?\\nIf you haven\\'t received any emails from us, you can log in to our website to view all available\\ntenders.There could be several reasons why you haven\\'t received emails:\\n1. You may not receive tenders the day after a holiday.\\n\\n2. Our email ID may be blocked by your network.\\n3. We may have encountered a technical issue while generating and sending emails.\\n4. Your service subscription may have expired.\\n5. You may not have accessed our website for three consecutive months.\\nIf the issue persists, please contact us at Sales@TenderTiger.com or call/sms +91 9328 913\\n635.\\nWant to Enhance My Plan\\nAt any point during your service subscription, you can enhance your plan by including\\nadditional categories, locations, organizations, and more. Currently, this can\\'t be done directly\\nby you, so please reach out to our support desk. Alternatively, you can email us at\\nSales@TenderTiger.com or call/sms +91 9328 913 635.\\nUnable to Access Tender, Prompting for Payment\\nThis may occur if the tender you\\'re trying to access falls outside the scope of your subscription,\\nsuch as location, category, or organization. To gain access to similar tenders, consider\\nupgrading your service. If you only need to view a single tender, please reach out to us. You\\ncan email us at Sales@TenderTiger.com or call/sms +91 9328 913 635.\\nWish to Include Colleagues in Email Digest\\nYou can include additional colleagues in your digest for just an extra 10% per email ID. This\\nway, even when you\\'re busy or on leave, business operations continue smoothly and\\nopportunities are not overlooked. To add colleagues, please contact us at\\nSales@TenderTiger.com or call/sms +91 9328 913 635.\\nTemporary Suspension of Services\\nWe offer our customers the option to temporarily pause their services once during the\\nsubscription period. If you\\'d like to do so for a quarter of your subscription duration, please\\nreach out to us. Your service will be suspended without any questions asked. To temporarily\\nhalt your services, email us at Sales@TenderTiger.com or call/sms +91 9328 913 635.\\nSluggish Website Performance\\nOur team maintains vigilant oversight of server health. Occasionally, you may encounter some\\nsluggishness. In such cases, we recommend trying to access Tender Tiger after a few minutes\\n– in 99% of cases, the issue resolves itself. If the problem persists, please contact us at\\nSales@TenderTiger.com or call/sms +91 9328 913 635.\\nTrouble Logging In\\n\\nIf you\\'re having trouble logging into Tender Tiger, it may be due to an incorrect email ID or\\npassword. If you\\'ve forgotten your password or it\\'s invalid, try resetting it. The reset link will\\nbe sent to your email – be sure to check your spam folder. If you\\'re still unable to log in after\\nchanging your password, please contact us at Sales@TenderTiger.com or call/sms +91 9328\\n913 635.\\nUnable to Register\\nIf you\\'re encountering an error during the signup process, please wait a few minutes and try\\nagain. If you don\\'t receive an OTP during signup, you can request a resend. If the entered\\nCaptcha is incorrect, please try a new one. If you\\'re still experiencing issues with registering\\non Tender Tiger, please reach out to us at Sales@TenderTiger.com or call/sms +91 9328 913\\n635.\\nDidn\\'t Receive OTP\\nIf you haven\\'t received the OTP, please try the \\'resend OTP\\' option. If this doesn\\'t work, it\\nmight be due to a relay issue with the OTP service provider, DND verification, or a potential\\nnetwork-level problem. Please inform us so we can investigate and assist you further. If you\\'re\\nstill unable to register on Tender Tiger, please email us at Sales@TenderTiger.com or call/sms\\n+91 9328 913 635.\\nEmail ID Already Exists\\nA unique email ID is required for signing up on Tender Tiger. If the system indicates that the\\nemail already exists, you can take the following steps: try resetting your password. A password\\nreset link will be sent to your email address, allowing you to access your Tender Tiger account.\\nIf you continue to encounter difficulties registering on Tender Tiger, please contact us at\\nSales@TenderTiger.com or call/sms +91 9328 913 635.\\nMobile Number Already Exists\\nA unique mobile number is required to sign up on Tender Tiger. If the system indicates that\\nthe mobile number already exists, you can take the following steps: get an OTP and re-verify\\nyour mobile number. After this, you should be able to access your Tender Tiger account. If you\\ncontinue to encounter difficulties registering on Tender Tiger, please contact us at\\nSales@TenderTiger.com or call/sms +91 9328 913 635.\\nEmergency Assistance Needed!\\nIf you require immediate assistance, you can request a callback. We make an effort to provide\\nsupport beyond our regular working hours (9AM to 7 PM IST). Alternatively, you can reach\\nout to us via email at Sales@TenderTiger.com or call/sms +91 9328 913 635, and we will\\nrespond as promptly as possible.\\nTrouble Accessing the Website?\\n\\nIf you\\'re encountering difficulties viewing this message, you might be facing issues with search\\nresults or accessing certain functionalities. Please try again after some time. If the problem\\npersists, please reach out to us, and we will address it promptly. To report the issue, email us\\nat Sales@TenderTiger.com or call/sms +91 9328 913 635, and we will respond as soon as\\npossible.\\nDelayed Tender Email Alerts\\nIf you\\'re experiencing delays in receiving email alerts for tenders, please inform us.\\nOccasionally, there may be rare instances where we may not be able to send the daily email\\nalerts in the morning, but they will be sent later in the day. In very rare cases, you may receive\\nalerts for two days at once. However, if you\\'re facing consistent issues with email frequency,\\nplease contact us. Reach out to us via email at Sales@TenderTiger.com or call/sms +91 9328\\n913 635, and we\\'ll respond promptly.\"\\nWhy Should I Renew My Service Ahead of Time?\\nWe recommend renewing your service several months in advance to ensure you don\\'t miss out\\non daily tender alerts in case your service expires. Since tenders have closing dates ranging\\nfrom 3 to 6 months from the date of publication, renewing at least 3 months in advance is\\nadvised. To renew, simply reach out to us via email at Sales@TenderTiger.com or call/sms\\n+91 9328 913 635, and we\\'ll take care of the rest.\"\\nWhy Should You Make a Referral?\\nReferring TenderTiger to your friends, business associates, and vendors can help them discover\\nnew business opportunities to expand their respective ventures. For every successful referral\\nthat becomes our customer, you will receive a service extension. Just a few successful referrals\\ncan potentially lead to a complimentary subscription for the next year. Spread the word among\\nyour friends and associates, then inform us via email at Sales@TenderTiger.com or call/sms\\n+91 9328 913 635, and we will take care of the rest.\"\\n\\n\\n\\nTable Data:\\n+----+---------------------------------------------------------------------------------------------------+\\n|    | Tender Tiger Private Limited (TTPL) is the global choice for tender discovery, listing nearly     |\\n+====+===================================================================================================+\\n|  0 | 100M new business opportunities worldwide. Daily, millions of suppliers uncover fresh Tender      |\\n+----+---------------------------------------------------------------------------------------------------+\\n|  1 | in diverse product and service categories. We meticulously scan government, newspaper, and        |\\n+----+---------------------------------------------------------------------------------------------------+\\n|  2 | various publications\\' websites to guarantee you never miss a crucial tender. To prevent essential |\\n+----+---------------------------------------------------------------------------------------------------+\\n|  3 | tenders from getting lost amidst the influx of new ones, we\\'ve introduced a pioneering AI         |\\n+----+---------------------------------------------------------------------------------------------------+\\n|  4 | search – the first of its kind globally.                                                          |\\n+----+---------------------------------------------------------------------------------------------------+\\n\\n+----+-------------------------------------------------------------------------------------------------+\\n|    | Ramesh Sinha, the Founder of Tender Tiger Private Limited, pioneered world\\'s First Tender       |\\n+====+=================================================================================================+\\n|  0 | portal in the early 2000s, during the dot.com boom. With 23 years of expertise, he specializes  |\\n+----+-------------------------------------------------------------------------------------------------+\\n|  1 | in listing Tenders and facilitating eTenders, Reverse Auctions, and comprehensive               |\\n+----+-------------------------------------------------------------------------------------------------+\\n|  2 | procurement processes. Our Group boasts a workforce and partner network of over 500             |\\n+----+-------------------------------------------------------------------------------------------------+\\n|  3 | dedicated individuals, all focused on one single objective - to help you win tender. Talk to us |\\n+----+-------------------------------------------------------------------------------------------------+\\n|  4 | to know which of your competitors are already signed up with us.                                |\\n+----+-------------------------------------------------------------------------------------------------+\\n\\n+----+------------------------------------------------------------------------------------------------+\\n|    | We monitor Trillions in procurement and facilitate annual transactions worth Billions.         |\\n+====+================================================================================================+\\n|  0 | Operating on a SAAS model, our goal is to reduce government procurement expenses. We           |\\n+----+------------------------------------------------------------------------------------------------+\\n|  1 | employ a fixed fee structure, not a percentage of the procurement value, which both buyers and |\\n+----+------------------------------------------------------------------------------------------------+\\n\\n+----+-------------------------------------------------------------------------------------------------+\\n|    | suppliers cover for accessing our diverse services. According to Indian Government standards,   |\\n+====+=================================================================================================+\\n|  0 | a medium sized company is one which is falling within the turnover range of Rs. 50 to Rs. 250   |\\n+----+-------------------------------------------------------------------------------------------------+\\n|  1 | Crores. We are a medium sized company.                                                          |\\n+----+-------------------------------------------------------------------------------------------------+\\n\\n+----+---------------------------------------------------------------------------------------------+\\n|    | Tender Tiger offers guidance to startups, micro, small, and medium enterprises on winning   |\\n+====+=============================================================================================+\\n|  0 | tenders. We provide essential support throughout the entire tendering process, from vendor  |\\n+----+---------------------------------------------------------------------------------------------+\\n|  1 | registration, empanelment, and sub-contracting to tender identification, finding consortium |\\n+----+---------------------------------------------------------------------------------------------+\\n|  2 | partners, bid preparation, submission, and negotiations. If you\\'re looking to grow your     |\\n+----+---------------------------------------------------------------------------------------------+\\n|  3 | business, sign up today. Click here to register.                                            |\\n+----+---------------------------------------------------------------------------------------------+\\n\\n+----+--------------------------------------------------------------------------------------------------+\\n|    | To sign up, click on the \"Signup\" button. The registration process is completely free. It will   |\\n+====+==================================================================================================+\\n|  0 | only take you less than a minute to complete. Click here to begin your signup process.           |\\n+----+--------------------------------------------------------------------------------------------------+\\n\\n+----+----------------------------------------------------------------------------------------------------+\\n|    | Absolutely! By signing up today, you\\'ll gain access to our extensive archive of tracked Tenders    |\\n+====+====================================================================================================+\\n|  0 | related to the products and services you offer. This allows you to assess the value of our service |\\n+----+----------------------------------------------------------------------------------------------------+\\n|  1 | in boosting your business. Click here to register.                                                 |\\n+----+----------------------------------------------------------------------------------------------------+\\n\\n+----+------------------------------------------------------------------------------------------------+\\n|    | Certainly! Once you sign up today, our support team will reach out to you to comprehensively   |\\n+====+================================================================================================+\\n|  0 | understand your needs and kickstart your free trial. During this period, you\\'ll gain access to |\\n+----+------------------------------------------------------------------------------------------------+\\n\\n+----+------------------------------------------------------------------------------------------------+\\n|    | tender summaries and details, excluding tender documents. Additionally, you\\'ll have insights   |\\n+====+================================================================================================+\\n|  0 | into potential bidders, pre-qualification conditions, consortium prospects, competitor         |\\n+----+------------------------------------------------------------------------------------------------+\\n|  1 | information, buyer statistics, and more. Don\\'t miss out, click here to sign up and commence    |\\n+----+------------------------------------------------------------------------------------------------+\\n|  2 | your free trial today!                                                                         |\\n+----+------------------------------------------------------------------------------------------------+\\n\\n+----+---------------------------------------------------------------------------------------------------+\\n|    | In addition to tender alerts, we provide a wide range of services (see Tender Tiger services).    |\\n+====+===================================================================================================+\\n|  0 | Accessing a tender can be as affordable as Rs. 100/Tender. Annual rates are dependent on your     |\\n+----+---------------------------------------------------------------------------------------------------+\\n|  1 | preferences for product or service categories, location, and any additional value-added services. |\\n+----+---------------------------------------------------------------------------------------------------+\\n|  2 | Opting for an unlimited access subscription for a period of 2 years or more is the recommended    |\\n+----+---------------------------------------------------------------------------------------------------+\\n|  3 | option. Our team can assist you in tailoring a plan to suit your specific needs. For further      |\\n+----+---------------------------------------------------------------------------------------------------+\\n|  4 | information, please contact us via email at sale@TenderTiger.com or call +91 9328 913 635.        |\\n+----+---------------------------------------------------------------------------------------------------+\\n\\n+----+---------------------------------------------------------------------------------------------------+\\n|    | No worries, we\\'ve got you covered. Simply provide us with what you are looking gor like           |\\n+====+===================================================================================================+\\n|  0 | keywords, organization, value, or location, and we\\'ll track it down and send it to you. To notify |\\n+----+---------------------------------------------------------------------------------------------------+\\n|  1 | us, send an email to sale@TenderTiger.com or call/sms +91 9328 913 635                            |\\n+----+---------------------------------------------------------------------------------------------------+\\n\\n+----+---------------------------------------------------------------------------------------------------+\\n|    | Our extensive tracking covers numerous websites. Occasionally, updates or code modifications      |\\n+====+===================================================================================================+\\n|  0 | on these websites may cause our crawler to halt. Alternatively, a tender may be misclassified,    |\\n+----+---------------------------------------------------------------------------------------------------+\\n|  1 | causing you to miss it. In either case, if you believe we\\'ve missed a tender, please let us know. |\\n+----+---------------------------------------------------------------------------------------------------+\\n|  2 | We\\'ll do our best to identify and rectify the issue. To inform us, please send an email to        |\\n+----+---------------------------------------------------------------------------------------------------+\\n|  3 | sale@TenderTiger.com or call/sms +91 9328 913 635. #MissedTender                                  |\\n+----+---------------------------------------------------------------------------------------------------+\\n\\n+----+---------------------------------------------------------------------------------------------------+\\n|    | This may be due to two reasons: either you\\'ve subscribed to inappropriate categories or           |\\n+====+===================================================================================================+\\n|  0 | keywords, or we\\'ve misclassified a tender. Please inform us, and we\\'ll swiftly address the issue. |\\n+----+---------------------------------------------------------------------------------------------------+\\n|  1 | Just reach out to us via email at sale@TenderTiger.com or call/sms +91 9328 913 635.              |\\n+----+---------------------------------------------------------------------------------------------------+\\n|  2 | #UnwantedTender #JunkTender #WrongTender #IrrelevantTender                                        |\\n+----+---------------------------------------------------------------------------------------------------+\\n\\n+----+------------------------------------------------------------------------------------------------+\\n|    | Our tenders are categorized using an AI engine with manual verification. In case of            |\\n+====+================================================================================================+\\n|  0 | inaccuracies in the training dataset, there might be instances of misclassification. If you    |\\n+----+------------------------------------------------------------------------------------------------+\\n|  1 | encounter wrongly classified tenders, please inform us. We\\'ll rectify this issue by retraining |\\n+----+------------------------------------------------------------------------------------------------+\\n|  2 | our dataset. #WrongClassification                                                              |\\n+----+------------------------------------------------------------------------------------------------+\\n\\n+----+-------------------------------------------------------------------------------------------------------+\\n|    | We aggregate data from diverse sources and present it on our portal. If certain details are absent,   |\\n+====+=======================================================================================================+\\n|  0 | it could be due to two reasons. Firstly, the publisher may have provided partial data, or             |\\n+----+-------------------------------------------------------------------------------------------------------+\\n\\n+----+---------------------------------------------------------------------------------------------+\\n|    | secondly, our crawling process may have missed some information. Kindly inform us, and if   |\\n+====+=============================================================================================+\\n|  0 | the fault lies with us, we\\'ll promptly address it. You can reach out to us via email at     |\\n+----+---------------------------------------------------------------------------------------------+\\n|  1 | sale@TenderTiger.com or call/sms +91 9328 913 635.                                          |\\n+----+---------------------------------------------------------------------------------------------+\\n\\n+----+-----------------------------------------------------------------------------------------------+\\n|    | Typically, the Tender Document accompanies the Tender notice upon publication. If the         |\\n+====+===============================================================================================+\\n|  0 | Tender Document is not available, it likely wasn\\'t published at the time of Tender release.   |\\n+----+-----------------------------------------------------------------------------------------------+\\n|  1 | Please verify the publisher\\'s website or reach out to the tendering authority for further     |\\n+----+-----------------------------------------------------------------------------------------------+\\n|  2 | information. If you possess the tender document, kindly send it to us at sale@TenderTiger.com |\\n+----+-----------------------------------------------------------------------------------------------+\\n|  3 | or call/sms +91 9328 913 635.                                                                 |\\n+----+-----------------------------------------------------------------------------------------------+\\n\\n+----+-----------------------------------------------------------------------------------------------------+\\n|    | We rely on a paid web-based translation tool to translate vernacular tender notices. It is          |\\n+====+=====================================================================================================+\\n|  0 | advisable to refer to the original draft and document when placing bids. Should you require         |\\n+----+-----------------------------------------------------------------------------------------------------+\\n|  1 | retranslation or translation of the entire tender document, please reach out to us. For translation |\\n+----+-----------------------------------------------------------------------------------------------------+\\n|  2 | services, please contact us via email at sale@TenderTiger.com or call/sms +91 9328 913 635.         |\\n+----+-----------------------------------------------------------------------------------------------------+\\n\\n+----+-------------------------------------------------------------------------------------------------+\\n|    | If you come across a tender of interest, kindly express it by clicking the heart icon.          |\\n+====+=================================================================================================+\\n|  0 | Additionally, promptly contact the relevant department and register your interest. This way,    |\\n+----+-------------------------------------------------------------------------------------------------+\\n|  1 | they can personally inform you in case of any corrigendum publication. Don\\'t forget to          |\\n+----+-------------------------------------------------------------------------------------------------+\\n|  2 | participate in the pre-bid meeting. Our system only monitors updates for tenders that have been |\\n+----+-------------------------------------------------------------------------------------------------+\\n|  3 | liked so keep giving us the hearts. For corrigendum missing alerts, please contact us via email |\\n+----+-------------------------------------------------------------------------------------------------+\\n|  4 | at sale@TenderTiger.com or call/sms +91 9328 913 635.                                           |\\n+----+-------------------------------------------------------------------------------------------------+\\n\\n\\n\\n--------------------------------------------------\\n\\n', metadata={'source': '/data/tendergpt/procurment_guildlines_txt/67801247/67801247.txt', '_id': 'f4bc461d57ab458bb211cff49b85cf6c', '_collection_name': '67801247'})]"
      ]
     },
     "execution_count": 18,
     "metadata": {},
     "output_type": "execute_result"
    }
   ],
   "source": [
    "found_docs"
   ]
  },
  {
   "cell_type": "code",
   "execution_count": null,
   "metadata": {},
   "outputs": [],
   "source": []
  }
 ],
 "metadata": {
  "kernelspec": {
   "display_name": "Python 3",
   "language": "python",
   "name": "python3"
  },
  "language_info": {
   "codemirror_mode": {
    "name": "ipython",
    "version": 3
   },
   "file_extension": ".py",
   "mimetype": "text/x-python",
   "name": "python",
   "nbconvert_exporter": "python",
   "pygments_lexer": "ipython3",
   "version": "3.10.12"
  }
 },
 "nbformat": 4,
 "nbformat_minor": 2
}
